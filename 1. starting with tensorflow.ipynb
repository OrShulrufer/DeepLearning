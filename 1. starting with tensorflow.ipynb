{
 "cells": [
  {
   "cell_type": "code",
   "execution_count": null,
   "id": "40ddbd25",
   "metadata": {},
   "outputs": [],
   "source": [
    "\"\"\"\n",
    "https://kgptalkie.com/deep-learning-with-tensorflow-2-0-tutorial-getting-started-with-tensorflow-2-0-and-keras-for-beginners/\n",
    "\"\"\""
   ]
  },
  {
   "cell_type": "code",
   "execution_count": 27,
   "id": "9c67bee7",
   "metadata": {},
   "outputs": [],
   "source": [
    "import tensorflow as tf\n",
    "from tensorflow import keras\n",
    "\n",
    "# for building model\n",
    "from tensorflow.keras import Sequential\n",
    "from tensorflow.keras.layers import Flatten, Dense\n",
    "\n",
    "# for predicting labels\n",
    "from sklearn.metrics import accuracy_score\n",
    "\n",
    "# python libreries\n",
    "import numpy as np\n",
    "import pandas as pd\n",
    "import matplotlib.pyplot as plt"
   ]
  },
  {
   "cell_type": "code",
   "execution_count": 2,
   "id": "e7e2de60",
   "metadata": {},
   "outputs": [],
   "source": [
    "\"\"\"\n",
    "Here we are loading the fashion_mnist dataset from keras.\n",
    "\"\"\"\n",
    "mnist = keras.datasets.fashion_mnist"
   ]
  },
  {
   "cell_type": "code",
   "execution_count": 4,
   "id": "55f32c45",
   "metadata": {},
   "outputs": [
    {
     "name": "stdout",
     "output_type": "stream",
     "text": [
      "Downloading data from https://storage.googleapis.com/tensorflow/tf-keras-datasets/train-labels-idx1-ubyte.gz\n",
      "32768/29515 [=================================] - 0s 2us/step\n",
      "Downloading data from https://storage.googleapis.com/tensorflow/tf-keras-datasets/train-images-idx3-ubyte.gz\n",
      "26427392/26421880 [==============================] - 5s 0us/step:  - ETA: \n",
      "Downloading data from https://storage.googleapis.com/tensorflow/tf-keras-datasets/t10k-labels-idx1-ubyte.gz\n",
      "8192/5148 [===============================================] - 0s 0us/step\n",
      "Downloading data from https://storage.googleapis.com/tensorflow/tf-keras-datasets/t10k-images-idx3-ubyte.gz\n",
      "4423680/4422102 [==============================] - 1s 0us/step\n"
     ]
    }
   ],
   "source": [
    "\"\"\"\n",
    "Now we load the data into real variables using load_data().\n",
    "It return 2 tuples.\n",
    "The first tupes has the training data and the second tuple has the test data.\n",
    "\"\"\"\n",
    "(X_train, y_train), (X_test, y_test) = mnist.load_data()"
   ]
  },
  {
   "cell_type": "code",
   "execution_count": 5,
   "id": "3c8d1107",
   "metadata": {},
   "outputs": [
    {
     "data": {
      "text/plain": [
       "((60000, 28, 28), (60000,))"
      ]
     },
     "execution_count": 5,
     "metadata": {},
     "output_type": "execute_result"
    }
   ],
   "source": [
    "\"\"\"\n",
    "By using shape we can see that it has 60,000 images for training and each image is\n",
    "of size 28×28 in X_train and a corresponding label for each image in y_train.\n",
    "\"\"\"\n",
    "X_train.shape, y_train.shape"
   ]
  },
  {
   "cell_type": "code",
   "execution_count": 6,
   "id": "266f7528",
   "metadata": {},
   "outputs": [],
   "source": [
    "\"\"\"\n",
    "These are all the class name in their proper order.\n",
    "top is encoded as 0, trouser is encoded as 1 and so on.\n",
    "\"\"\"\n",
    "class_names = ['top', 'trouser', 'pullover', 'dress', 'coat', 'sandal', 'shirt', 'sneaker', 'bag', 'ankle boot']"
   ]
  },
  {
   "cell_type": "markdown",
   "id": "92125ee2",
   "metadata": {},
   "source": [
    "### Data Exploration"
   ]
  },
  {
   "cell_type": "code",
   "execution_count": 10,
   "id": "b4e4831b",
   "metadata": {},
   "outputs": [
    {
     "data": {
      "text/plain": [
       "<matplotlib.colorbar.Colorbar at 0x7fb2aee39b10>"
      ]
     },
     "execution_count": 10,
     "metadata": {},
     "output_type": "execute_result"
    },
    {
     "data": {
      "image/png": "[encoded data removed]",
      "text/plain": [
       "<Figure size 432x288 with 2 Axes>"
      ]
     },
     "metadata": {
      "needs_background": "light"
     },
     "output_type": "display_data"
    }
   ],
   "source": [
    "# creating a new figure\n",
    "plt.figure()\n",
    "# display data as an image\n",
    "plt.imshow(X_train[1])\n",
    "# add a colorbar to a plot\n",
    "plt.colorbar()"
   ]
  },
  {
   "cell_type": "code",
   "execution_count": 11,
   "id": "40c04d36",
   "metadata": {},
   "outputs": [
    {
     "data": {
      "text/plain": [
       "255"
      ]
     },
     "execution_count": 11,
     "metadata": {},
     "output_type": "execute_result"
    }
   ],
   "source": [
    "\"\"\"\n",
    "np.max() gives the maximum value. Hence the maximum value in X_train is 255.\n",
    "\"\"\"\n",
    "np.max(X_train)"
   ]
  },
  {
   "cell_type": "code",
   "execution_count": 12,
   "id": "77f822a4",
   "metadata": {},
   "outputs": [],
   "source": [
    "\"\"\"\n",
    "Neural Network model doesn’t take value greater than 1.\n",
    "So we need to bring all the values between 0 and 1. \n",
    "To do this we will divide all the values in the training and testing dataset by 255\n",
    "as the greatest value in our dataset is 255.\n",
    "\"\"\"\n",
    "\n",
    "X_train = X_train/255.0\n",
    "X_test = X_test/255.0"
   ]
  },
  {
   "cell_type": "code",
   "execution_count": 13,
   "id": "ef6a3082",
   "metadata": {},
   "outputs": [
    {
     "data": {
      "text/plain": [
       "<matplotlib.colorbar.Colorbar at 0x7fb2aefe1050>"
      ]
     },
     "execution_count": 13,
     "metadata": {},
     "output_type": "execute_result"
    },
    {
     "data": {
      "image/png": "[encoded data removed]",
      "text/plain": [
       "<Figure size 432x288 with 2 Axes>"
      ]
     },
     "metadata": {
      "needs_background": "light"
     },
     "output_type": "display_data"
    }
   ],
   "source": [
    "# creating a new figure\n",
    "plt.figure()\n",
    "# display data as an image\n",
    "plt.imshow(X_train[1])\n",
    "# add a colorbar to a plot\n",
    "plt.colorbar()"
   ]
  },
  {
   "cell_type": "markdown",
   "id": "69af2e8f",
   "metadata": {},
   "source": [
    "### Build the model with TF 2.0"
   ]
  },
  {
   "cell_type": "code",
   "execution_count": 22,
   "id": "ff5f6058",
   "metadata": {},
   "outputs": [],
   "source": [
    "# Sequential means one input and one output\n",
    "model = Sequential()\n",
    "# converting the data into a 1-dimensional array for inputting it to the next layer\n",
    "model.add(Flatten(input_shape = (28, 28)))\n",
    "# relu removes the negative values (converting them to zero)\n",
    "model.add(Dense(32, activation = 'relu'))\n",
    "# The softmax function is a more generalized logistic activation function,\n",
    "# which is used for multiclass classification.\n",
    "model.add(Dense(10, activation = 'softmax'))"
   ]
  },
  {
   "cell_type": "code",
   "execution_count": 23,
   "id": "629b43fa",
   "metadata": {},
   "outputs": [
    {
     "name": "stdout",
     "output_type": "stream",
     "text": [
      "Model: \"sequential_2\"\n",
      "_________________________________________________________________\n",
      "Layer (type)                 Output Shape              Param #   \n",
      "=================================================================\n",
      "flatten_2 (Flatten)          (None, 784)               0         \n",
      "_________________________________________________________________\n",
      "dense_4 (Dense)              (None, 32)                25120     \n",
      "_________________________________________________________________\n",
      "dense_5 (Dense)              (None, 10)                330       \n",
      "=================================================================\n",
      "Total params: 25,450\n",
      "Trainable params: 25,450\n",
      "Non-trainable params: 0\n",
      "_________________________________________________________________\n"
     ]
    }
   ],
   "source": [
    "model.summary()"
   ]
  },
  {
   "cell_type": "code",
   "execution_count": 24,
   "id": "aba9b7bb",
   "metadata": {},
   "outputs": [
    {
     "name": "stdout",
     "output_type": "stream",
     "text": [
      "Epoch 1/10\n",
      "1875/1875 [==============================] - 2s 793us/step - loss: 0.7628 - accuracy: 0.7467\n",
      "Epoch 2/10\n",
      "1875/1875 [==============================] - 1s 770us/step - loss: 0.4258 - accuracy: 0.8499\n",
      "Epoch 3/10\n",
      "1875/1875 [==============================] - 1s 773us/step - loss: 0.3851 - accuracy: 0.8619\n",
      "Epoch 4/10\n",
      "1875/1875 [==============================] - 1s 768us/step - loss: 0.3651 - accuracy: 0.8711\n",
      "Epoch 5/10\n",
      "1875/1875 [==============================] - 1s 767us/step - loss: 0.3497 - accuracy: 0.8751\n",
      "Epoch 6/10\n",
      "1875/1875 [==============================] - 1s 776us/step - loss: 0.3405 - accuracy: 0.8765\n",
      "Epoch 7/10\n",
      "1875/1875 [==============================] - 1s 769us/step - loss: 0.3250 - accuracy: 0.8839\n",
      "Epoch 8/10\n",
      "1875/1875 [==============================] - 1s 795us/step - loss: 0.3218 - accuracy: 0.8836\n",
      "Epoch 9/10\n",
      "1875/1875 [==============================] - 2s 938us/step - loss: 0.3111 - accuracy: 0.8867\n",
      "Epoch 10/10\n",
      "1875/1875 [==============================] - 2s 830us/step - loss: 0.3080 - accuracy: 0.8875\n"
     ]
    },
    {
     "data": {
      "text/plain": [
       "<tensorflow.python.keras.callbacks.History at 0x7fb2a8859f90>"
      ]
     },
     "execution_count": 24,
     "metadata": {},
     "output_type": "execute_result"
    }
   ],
   "source": [
    "\"\"\"\n",
    "sparse_categorical_crossentropy - produces a category index of the most likely matching category.\n",
    "\n",
    "Adam is an optimization algorithm that can be used instead of the classical stochastic gradient descent\n",
    "procedure to update network weights iterative based in training data.\n",
    "Adam is a popular algorithm in the field of deep learning because it achieves good results fast.\n",
    "\"\"\"\n",
    "model.compile(optimizer='adam', loss = 'sparse_categorical_crossentropy', metrics = ['accuracy'])\n",
    "model.fit(X_train, y_train, epochs = 10)"
   ]
  },
  {
   "cell_type": "code",
   "execution_count": 25,
   "id": "16d139ae",
   "metadata": {},
   "outputs": [
    {
     "name": "stdout",
     "output_type": "stream",
     "text": [
      "313/313 [==============================] - 0s 643us/step - loss: 0.3723 - accuracy: 0.8675\n",
      "0.8675000071525574\n"
     ]
    }
   ],
   "source": [
    "test_loss, test_acc = model.evaluate(X_test, y_test)\n",
    "print(test_acc)"
   ]
  },
  {
   "cell_type": "code",
   "execution_count": 61,
   "id": "d0b25100",
   "metadata": {},
   "outputs": [
    {
     "name": "stdout",
     "output_type": "stream",
     "text": [
      "[9 2 1 ... 8 1 5]\n"
     ]
    },
    {
     "data": {
      "text/plain": [
       "array([[[0.        , 0.        , 0.        , 0.        , 0.        ,\n",
       "         0.        , 0.        , 0.        , 0.        , 0.        ,\n",
       "         0.05098039, 0.2627451 , 0.        , 0.        , 0.        ,\n",
       "         0.        , 0.19607843, 0.14901961, 0.        , 0.        ,\n",
       "         0.        , 0.        , 0.        , 0.        , 0.        ,\n",
       "         0.        , 0.        , 0.        ],\n",
       "        [0.        , 0.        , 0.        , 0.        , 0.        ,\n",
       "         0.        , 0.        , 0.03137255, 0.47058824, 0.81960784,\n",
       "         0.88627451, 0.96862745, 0.92941176, 1.        , 1.        ,\n",
       "         1.        , 0.96862745, 0.93333333, 0.92156863, 0.6745098 ,\n",
       "         0.28235294, 0.        , 0.        , 0.        , 0.        ,\n",
       "         0.        , 0.        , 0.        ],\n",
       "        [0.        , 0.        , 0.        , 0.        , 0.        ,\n",
       "         0.        , 0.5372549 , 0.9372549 , 0.98823529, 0.95294118,\n",
       "         0.91764706, 0.89803922, 0.93333333, 0.95686275, 0.96470588,\n",
       "         0.94117647, 0.90196078, 0.90980392, 0.9372549 , 0.97254902,\n",
       "         0.98431373, 0.76078431, 0.        , 0.        , 0.        ,\n",
       "         0.        , 0.        , 0.        ],\n",
       "        [0.        , 0.        , 0.        , 0.        , 0.        ,\n",
       "         0.4       , 1.        , 0.90588235, 0.89411765, 0.89019608,\n",
       "         0.89411765, 0.91372549, 0.90196078, 0.90196078, 0.89803922,\n",
       "         0.89411765, 0.90980392, 0.90980392, 0.90588235, 0.89019608,\n",
       "         0.87843137, 0.98823529, 0.70196078, 0.        , 0.        ,\n",
       "         0.        , 0.        , 0.        ],\n",
       "        [0.        , 0.        , 0.        , 0.        , 0.        ,\n",
       "         0.91372549, 0.94509804, 0.89803922, 0.90588235, 1.        ,\n",
       "         1.        , 0.93333333, 0.90588235, 0.89019608, 0.93333333,\n",
       "         0.96470588, 0.89411765, 0.90196078, 0.89019608, 0.91764706,\n",
       "         0.92156863, 0.89803922, 0.94509804, 0.07843137, 0.        ,\n",
       "         0.        , 0.        , 0.        ],\n",
       "        [0.        , 0.        , 0.        , 0.        , 0.        ,\n",
       "         0.97254902, 0.94509804, 0.90588235, 1.        , 0.58431373,\n",
       "         0.18431373, 0.98823529, 0.89411765, 1.        , 0.94901961,\n",
       "         0.84705882, 0.93333333, 0.90980392, 1.        , 0.89411765,\n",
       "         0.8627451 , 0.91764706, 0.98039216, 0.21176471, 0.        ,\n",
       "         0.        , 0.        , 0.        ],\n",
       "        [0.        , 0.        , 0.        , 0.        , 0.        ,\n",
       "         1.        , 0.94117647, 0.90980392, 1.        , 0.05882353,\n",
       "         0.        , 1.        , 0.92941176, 0.74901961, 0.        ,\n",
       "         0.        , 0.83921569, 1.        , 0.05098039, 0.48235294,\n",
       "         1.        , 0.91764706, 0.98823529, 0.44705882, 0.        ,\n",
       "         0.        , 0.        , 0.        ],\n",
       "        [0.        , 0.        , 0.        , 0.        , 0.02352941,\n",
       "         1.        , 0.93333333, 0.9372549 , 1.        , 0.69411765,\n",
       "         0.        , 1.        , 1.        , 0.        , 0.50980392,\n",
       "         0.45490196, 0.18431373, 0.25490196, 0.16862745, 0.14509804,\n",
       "         1.        , 0.9254902 , 0.97647059, 0.63529412, 0.        ,\n",
       "         0.        , 0.        , 0.        ],\n",
       "        [0.        , 0.        , 0.        , 0.        , 0.1254902 ,\n",
       "         1.        , 0.9254902 , 0.96078431, 1.        , 0.8       ,\n",
       "         0.        , 1.        , 0.32941176, 0.        , 0.14509804,\n",
       "         0.10980392, 0.12156863, 0.        , 0.09803922, 0.05098039,\n",
       "         1.        , 0.9254902 , 0.97647059, 0.78039216, 0.        ,\n",
       "         0.        , 0.        , 0.        ],\n",
       "        [0.        , 0.        , 0.        , 0.        , 0.20784314,\n",
       "         1.        , 0.9254902 , 0.98039216, 0.98039216, 0.90588235,\n",
       "         0.00784314, 1.        , 0.08235294, 0.        , 0.86666667,\n",
       "         1.        , 0.9254902 , 0.21176471, 0.96078431, 0.77647059,\n",
       "         0.95294118, 0.93333333, 0.96078431, 0.8745098 , 0.        ,\n",
       "         0.        , 0.        , 0.        ],\n",
       "        [0.        , 0.        , 0.        , 0.        , 0.31372549,\n",
       "         1.        , 0.92941176, 0.98039216, 0.94117647, 1.        ,\n",
       "         0.        , 0.        , 0.15294118, 0.61568627, 0.        ,\n",
       "         0.        , 0.84313725, 0.36862745, 0.07843137, 0.49411765,\n",
       "         1.        , 0.92941176, 0.9372549 , 0.98039216, 0.        ,\n",
       "         0.        , 0.        , 0.        ],\n",
       "        [0.        , 0.        , 0.        , 0.        , 0.39607843,\n",
       "         1.        , 0.92156863, 0.99215686, 0.95686275, 0.95294118,\n",
       "         0.52156863, 0.54117647, 0.81568627, 1.        , 0.78823529,\n",
       "         0.83921569, 1.        , 0.90196078, 0.02745098, 0.68235294,\n",
       "         1.        , 0.94117647, 0.93333333, 1.        , 0.        ,\n",
       "         0.        , 0.        , 0.        ],\n",
       "        [0.        , 0.        , 0.        , 0.        , 0.49411765,\n",
       "         1.        , 0.91372549, 1.        , 0.97254902, 0.91372549,\n",
       "         1.        , 1.        , 0.94117647, 0.90980392, 0.95294118,\n",
       "         0.95294118, 0.90588235, 0.98431373, 1.        , 1.        ,\n",
       "         0.99607843, 0.95294118, 0.93333333, 1.        , 0.01176471,\n",
       "         0.        , 0.        , 0.        ],\n",
       "        [0.        , 0.        , 0.        , 0.        , 0.57647059,\n",
       "         1.        , 0.91372549, 0.97647059, 0.70980392, 0.95294118,\n",
       "         0.89019608, 0.87843137, 0.90196078, 0.91764706, 0.90196078,\n",
       "         0.90196078, 0.92156863, 0.89411765, 0.92156863, 0.87058824,\n",
       "         0.81176471, 1.        , 0.9254902 , 1.        , 0.1372549 ,\n",
       "         0.        , 0.        , 0.        ],\n",
       "        [0.        , 0.        , 0.        , 0.        , 0.63921569,\n",
       "         1.        , 0.96078431, 0.86666667, 0.3372549 , 1.        ,\n",
       "         0.91372549, 0.91372549, 0.92156863, 0.9254902 , 0.91764706,\n",
       "         0.91764706, 0.91764706, 0.90980392, 0.94901961, 0.90588235,\n",
       "         0.49019608, 1.        , 0.9254902 , 1.        , 0.21568627,\n",
       "         0.        , 0.        , 0.        ],\n",
       "        [0.        , 0.        , 0.        , 0.        , 0.70980392,\n",
       "         0.99607843, 1.        , 0.78431373, 0.27058824, 1.        ,\n",
       "         0.89411765, 0.90980392, 0.91764706, 0.92156863, 0.91764706,\n",
       "         0.91764706, 0.91372549, 0.92156863, 0.94509804, 0.92941176,\n",
       "         0.2745098 , 1.        , 0.92156863, 0.96470588, 0.22352941,\n",
       "         0.        , 0.        , 0.        ],\n",
       "        [0.        , 0.        , 0.        , 0.        , 0.77254902,\n",
       "         0.96862745, 1.        , 0.7372549 , 0.43137255, 1.        ,\n",
       "         0.87843137, 0.91372549, 0.91764706, 0.91764706, 0.91764706,\n",
       "         0.91764706, 0.91764706, 0.91764706, 0.94117647, 0.99215686,\n",
       "         0.27058824, 1.        , 0.9254902 , 0.97254902, 0.30196078,\n",
       "         0.        , 0.        , 0.        ],\n",
       "        [0.        , 0.        , 0.        , 0.        , 0.78431373,\n",
       "         0.96470588, 1.        , 0.58431373, 0.56862745, 1.        ,\n",
       "         0.8745098 , 0.92156863, 0.91764706, 0.92156863, 0.92156863,\n",
       "         0.92156863, 0.91764706, 0.92941176, 0.91372549, 1.        ,\n",
       "         0.18431373, 1.        , 0.9372549 , 0.97647059, 0.38431373,\n",
       "         0.        , 0.        , 0.        ],\n",
       "        [0.        , 0.        , 0.        , 0.        , 0.8       ,\n",
       "         0.95294118, 1.        , 0.43529412, 0.67843137, 1.        ,\n",
       "         0.89019608, 0.92156863, 0.92156863, 0.9254902 , 0.92156863,\n",
       "         0.92156863, 0.92156863, 0.9372549 , 0.89803922, 1.        ,\n",
       "         0.0745098 , 0.89019608, 0.96470588, 0.97647059, 0.43137255,\n",
       "         0.        , 0.        , 0.        ],\n",
       "        [0.        , 0.        , 0.        , 0.        , 0.76862745,\n",
       "         0.94117647, 1.        , 0.42745098, 0.83529412, 0.98039216,\n",
       "         0.89803922, 0.92156863, 0.92156863, 0.9254902 , 0.92156863,\n",
       "         0.92941176, 0.9254902 , 0.92941176, 0.88627451, 1.        ,\n",
       "         0.21568627, 0.79607843, 0.98431373, 0.96078431, 0.47058824,\n",
       "         0.        , 0.        , 0.        ],\n",
       "        [0.        , 0.        , 0.        , 0.        , 0.75294118,\n",
       "         0.95294118, 1.        , 0.44705882, 0.90980392, 0.94117647,\n",
       "         0.90980392, 0.92156863, 0.92156863, 0.9254902 , 0.91764706,\n",
       "         0.92941176, 0.9254902 , 0.92156863, 0.89803922, 1.        ,\n",
       "         0.5254902 , 0.67058824, 0.98823529, 0.95686275, 0.5372549 ,\n",
       "         0.        , 0.        , 0.        ],\n",
       "        [0.        , 0.        , 0.        , 0.        , 0.74117647,\n",
       "         0.98431373, 1.        , 0.60392157, 0.93333333, 0.91372549,\n",
       "         0.9254902 , 0.91764706, 0.92156863, 0.9254902 , 0.92156863,\n",
       "         0.93333333, 0.9254902 , 0.92156863, 0.90980392, 1.        ,\n",
       "         0.65098039, 0.49019608, 1.        , 0.95294118, 0.55686275,\n",
       "         0.        , 0.        , 0.        ],\n",
       "        [0.        , 0.        , 0.        , 0.        , 0.71764706,\n",
       "         0.98823529, 1.        , 0.67058824, 0.96862745, 0.90980392,\n",
       "         0.91764706, 0.91764706, 0.91372549, 0.91372549, 0.90980392,\n",
       "         0.91764706, 0.91372549, 0.91764706, 0.91372549, 0.94117647,\n",
       "         0.8745098 , 0.50196078, 1.        , 0.94901961, 0.59215686,\n",
       "         0.        , 0.        , 0.        ],\n",
       "        [0.        , 0.        , 0.        , 0.        , 0.69803922,\n",
       "         0.95294118, 1.        , 0.22352941, 0.93333333, 0.94509804,\n",
       "         0.93333333, 0.93333333, 0.93333333, 0.92941176, 0.9254902 ,\n",
       "         0.92941176, 0.92941176, 0.94117647, 0.92941176, 0.99607843,\n",
       "         0.69019608, 0.20392157, 1.        , 0.9372549 , 0.61568627,\n",
       "         0.        , 0.        , 0.        ],\n",
       "        [0.        , 0.        , 0.        , 0.        , 0.7372549 ,\n",
       "         0.94117647, 0.98039216, 0.24313725, 0.85490196, 1.        ,\n",
       "         0.8627451 , 0.87058824, 0.87058824, 0.87058824, 0.8745098 ,\n",
       "         0.8745098 , 0.87843137, 0.87058824, 0.85490196, 1.        ,\n",
       "         0.60392157, 0.1254902 , 1.        , 0.9254902 , 0.7372549 ,\n",
       "         0.        , 0.        , 0.        ],\n",
       "        [0.        , 0.        , 0.        , 0.        , 0.50980392,\n",
       "         0.96078431, 0.94901961, 0.09411765, 0.        , 0.        ,\n",
       "         0.        , 0.        , 0.        , 0.        , 0.        ,\n",
       "         0.        , 0.        , 0.        , 0.        , 0.        ,\n",
       "         0.        , 0.13333333, 0.94901961, 0.95686275, 0.52941176,\n",
       "         0.        , 0.        , 0.        ],\n",
       "        [0.        , 0.        , 0.        , 0.        , 0.29803922,\n",
       "         1.        , 0.97647059, 0.08627451, 0.        , 0.        ,\n",
       "         0.        , 0.        , 0.        , 0.        , 0.        ,\n",
       "         0.        , 0.        , 0.        , 0.        , 0.        ,\n",
       "         0.        , 0.15294118, 0.97647059, 1.        , 0.48235294,\n",
       "         0.        , 0.        , 0.        ],\n",
       "        [0.        , 0.        , 0.        , 0.        , 0.19215686,\n",
       "         0.80392157, 0.77254902, 0.04313725, 0.        , 0.01568627,\n",
       "         0.00392157, 0.00784314, 0.00784314, 0.00784314, 0.00784314,\n",
       "         0.00784314, 0.00784314, 0.00784314, 0.00784314, 0.01176471,\n",
       "         0.        , 0.01176471, 0.68235294, 0.74117647, 0.2627451 ,\n",
       "         0.        , 0.        , 0.        ]]])"
      ]
     },
     "execution_count": 61,
     "metadata": {},
     "output_type": "execute_result"
    }
   ],
   "source": [
    "# predicting the hole set\n",
    "y_pred = np.argmax(model.predict(X_test), axis=-1)\n",
    "print(accuracy_score(y_test, y_pred))\n",
    "print(y_pred)\n",
    "\n",
    "# predicting one or more pictures\n",
    "print(np.argmax(model.predict(X_test[1:2])))"
   ]
  },
  {
   "cell_type": "code",
   "execution_count": null,
   "id": "ed47f28e",
   "metadata": {},
   "outputs": [],
   "source": []
  }
 ],
 "metadata": {
  "kernelspec": {
   "display_name": "deeplurning",
   "language": "python",
   "name": "deeplurning"
  },
  "language_info": {
   "codemirror_mode": {
    "name": "ipython",
    "version": 3
   },
   "file_extension": ".py",
   "mimetype": "text/x-python",
   "name": "python",
   "nbconvert_exporter": "python",
   "pygments_lexer": "ipython3",
   "version": "3.7.10"
  }
 },
 "nbformat": 4,
 "nbformat_minor": 5
}
